{
 "cells": [
  {
   "cell_type": "markdown",
   "id": "c0f0094c",
   "metadata": {},
   "source": [
    "# Markdown to Mermaid Flowchart Converter\n",
    "\n",
    "This notebook converts `.md` files containing Mermaid flowcharts to standalone `.mmd` files by:\n",
    "1. Finding all Markdown files in a specified directory\n",
    "2. Extracting the Mermaid flowchart content between triple backticks\n",
    "3. Saving each flowchart as a separate `.mmd` file\n",
    "4. Removing the triple backticks and the \"mermaid\" label"
   ]
  },
  {
   "cell_type": "markdown",
   "id": "186d57a1",
   "metadata": {},
   "source": [
    "## 1. Import Required Libraries"
   ]
  },
  {
   "cell_type": "code",
   "execution_count": null,
   "id": "b2643208",
   "metadata": {},
   "outputs": [],
   "source": [
    "import os\n",
    "import glob\n",
    "import re\n",
    "import shutil\n",
    "from pathlib import Path"
   ]
  },
  {
   "cell_type": "markdown",
   "id": "eb093952",
   "metadata": {},
   "source": [
    "## 2. Set Up Directory Paths"
   ]
  },
  {
   "cell_type": "code",
   "execution_count": null,
   "id": "cf221eb8",
   "metadata": {},
   "outputs": [],
   "source": [
    "# Input directory containing .md files with Mermaid flowcharts\n",
    "input_dir = os.path.join(os.getcwd(), \"flowcharts\")\n",
    "\n",
    "# Output directory for .mmd files\n",
    "output_dir = os.path.join(os.getcwd(), \"mermaid_files\")\n",
    "\n",
    "# Create output directory if it doesn't exist\n",
    "os.makedirs(output_dir, exist_ok=True)\n",
    "\n",
    "print(f\"Input directory: {input_dir}\")\n",
    "print(f\"Output directory: {output_dir}\")"
   ]
  },
  {
   "cell_type": "markdown",
   "id": "b3de48ee",
   "metadata": {},
   "source": [
    "## 3. Define Markdown to Mermaid Conversion Function"
   ]
  },
  {
   "cell_type": "code",
   "execution_count": null,
   "id": "d9579c2d",
   "metadata": {},
   "outputs": [],
   "source": [
    "def extract_mermaid_from_markdown(md_content):\n",
    "    \"\"\"\n",
    "    Extract Mermaid flowchart from markdown content.\n",
    "    \n",
    "    Args:\n",
    "        md_content (str): Markdown content with Mermaid flowchart\n",
    "        \n",
    "    Returns:\n",
    "        str: Extracted Mermaid flowchart content or None if not found\n",
    "    \"\"\"\n",
    "    # Pattern to match ```mermaid ... ``` blocks\n",
    "    pattern = r'```mermaid\\s*([\\s\\S]*?)```'\n",
    "    \n",
    "    # Find all matches\n",
    "    matches = re.findall(pattern, md_content)\n",
    "    \n",
    "    if matches:\n",
    "        # Return the first match (assuming one flowchart per file)\n",
    "        return matches[0].strip()\n",
    "    else:\n",
    "        return None"
   ]
  },
  {
   "cell_type": "markdown",
   "id": "d7bbe483",
   "metadata": {},
   "source": [
    "## 4. Process Single File"
   ]
  },
  {
   "cell_type": "code",
   "execution_count": null,
   "id": "96e6ad88",
   "metadata": {},
   "outputs": [],
   "source": [
    "def process_file(md_file, output_dir):\n",
    "    \"\"\"\n",
    "    Process a single markdown file and extract Mermaid content to .mmd file\n",
    "    \n",
    "    Args:\n",
    "        md_file (str): Path to the markdown file\n",
    "        output_dir (str): Directory to save the .mmd file\n",
    "        \n",
    "    Returns:\n",
    "        tuple: (success, output_path or error message)\n",
    "    \"\"\"\n",
    "    try:\n",
    "        # Read markdown file\n",
    "        with open(md_file, 'r', encoding='utf-8') as f:\n",
    "            content = f.read()\n",
    "        \n",
    "        # Extract Mermaid content\n",
    "        mermaid_content = extract_mermaid_from_markdown(content)\n",
    "        \n",
    "        if not mermaid_content:\n",
    "            return (False, f\"No Mermaid content found in {md_file}\")\n",
    "        \n",
    "        # Create output filename with .mmd extension\n",
    "        base_name = os.path.basename(md_file)\n",
    "        file_name = os.path.splitext(base_name)[0]\n",
    "        output_path = os.path.join(output_dir, f\"{file_name}.mmd\")\n",
    "        \n",
    "        # Write Mermaid content to .mmd file\n",
    "        with open(output_path, 'w', encoding='utf-8') as f:\n",
    "            f.write(mermaid_content)\n",
    "        \n",
    "        return (True, output_path)\n",
    "        \n",
    "    except Exception as e:\n",
    "        return (False, f\"Error processing {md_file}: {str(e)}\")"
   ]
  },
  {
   "cell_type": "markdown",
   "id": "ba473cc2",
   "metadata": {},
   "source": [
    "## 5. Batch Process Directory"
   ]
  },
  {
   "cell_type": "code",
   "execution_count": null,
   "id": "cc8081d1",
   "metadata": {},
   "outputs": [],
   "source": [
    "def convert_directory(input_dir, output_dir):\n",
    "    \"\"\"\n",
    "    Convert all markdown files in a directory to Mermaid files\n",
    "    \n",
    "    Args:\n",
    "        input_dir (str): Directory containing .md files\n",
    "        output_dir (str): Directory to save .mmd files\n",
    "        \n",
    "    Returns:\n",
    "        dict: Statistics about the conversion process\n",
    "    \"\"\"\n",
    "    # Find all .md files in the input directory\n",
    "    md_files = glob.glob(os.path.join(input_dir, \"*.md\"))\n",
    "    \n",
    "    stats = {\n",
    "        \"total\": len(md_files),\n",
    "        \"successful\": 0,\n",
    "        \"failed\": 0,\n",
    "        \"results\": []\n",
    "    }\n",
    "    \n",
    "    for md_file in md_files:\n",
    "        print(f\"Processing {md_file}...\")\n",
    "        success, result = process_file(md_file, output_dir)\n",
    "        \n",
    "        if success:\n",
    "            stats[\"successful\"] += 1\n",
    "            status = \"Success\"\n",
    "        else:\n",
    "            stats[\"failed\"] += 1\n",
    "            status = \"Failed\"\n",
    "            \n",
    "        stats[\"results\"].append({\n",
    "            \"file\": md_file,\n",
    "            \"status\": status,\n",
    "            \"result\": result\n",
    "        })\n",
    "    \n",
    "    return stats"
   ]
  },
  {
   "cell_type": "markdown",
   "id": "84e21997",
   "metadata": {},
   "source": [
    "## 6. Execute the Conversion"
   ]
  },
  {
   "cell_type": "code",
   "execution_count": null,
   "id": "2d9132f2",
   "metadata": {},
   "outputs": [],
   "source": [
    "# Execute the conversion process\n",
    "stats = convert_directory(input_dir, output_dir)\n",
    "\n",
    "# Print summary statistics\n",
    "print(\"\\n=== Conversion Summary ===\")\n",
    "print(f\"Total files processed: {stats['total']}\")\n",
    "print(f\"Successfully converted: {stats['successful']}\")\n",
    "print(f\"Failed conversions: {stats['failed']}\")\n",
    "\n",
    "# Print detailed results\n",
    "print(\"\\n=== Detailed Results ===\")\n",
    "for result in stats['results']:\n",
    "    print(f\"{result['file']}: {result['status']} - {result['result']}\")"
   ]
  },
  {
   "cell_type": "markdown",
   "id": "5ba759b4",
   "metadata": {},
   "source": [
    "## 7. Verify Output Files"
   ]
  },
  {
   "cell_type": "code",
   "execution_count": null,
   "id": "7b529110",
   "metadata": {},
   "outputs": [],
   "source": [
    "# Check and display the first few lines of each converted file\n",
    "mmd_files = glob.glob(os.path.join(output_dir, \"*.mmd\"))\n",
    "\n",
    "print(f\"\\nFound {len(mmd_files)} .mmd files in output directory\")\n",
    "\n",
    "# Preview the first few lines of each converted file (up to 5 files)\n",
    "for i, mmd_file in enumerate(mmd_files[:5]):\n",
    "    print(f\"\\n=== Contents of {os.path.basename(mmd_file)} ===\")\n",
    "    with open(mmd_file, 'r', encoding='utf-8') as f:\n",
    "        # Read up to the first 10 lines\n",
    "        lines = [next(f) for _ in range(10) if f]\n",
    "        print('\\n'.join(lines))\n",
    "        print(\"...\")\n",
    "    \n",
    "    if i >= 4 and len(mmd_files) > 5:\n",
    "        print(f\"\\n(+ {len(mmd_files) - 5} more files)\")\n",
    "        break"
   ]
  },
  {
   "cell_type": "markdown",
   "id": "cd5632a6",
   "metadata": {},
   "source": [
    "## Conclusion\n",
    "\n",
    "The notebook has successfully:\n",
    "1. Identified all Markdown files in the input directory\n",
    "2. Extracted Mermaid flowchart content by removing the triple backticks and \"mermaid\" markers\n",
    "3. Saved the extracted content as standalone .mmd files in the output directory\n",
    "4. Displayed a summary of the conversion process and previewed the output\n",
    "\n",
    "You can now use these .mmd files with Mermaid rendering tools or services directly, without the Markdown wrapper."
   ]
  },
  {
   "cell_type": "markdown",
   "id": "5feba494",
   "metadata": {},
   "source": [
    "## 8. Convert Mermaid Files to PNG Images\n",
    "\n",
    "Now we'll convert all the generated `.mmd` files to `.png` images using the Kroki API."
   ]
  },
  {
   "cell_type": "code",
   "execution_count": null,
   "id": "d7703da8",
   "metadata": {},
   "outputs": [],
   "source": [
    "import requests\n",
    "import base64\n",
    "from tqdm.notebook import tqdm\n",
    "import os\n",
    "import json"
   ]
  }
 ],
 "metadata": {
  "language_info": {
   "name": "python"
  }
 },
 "nbformat": 4,
 "nbformat_minor": 5
}
